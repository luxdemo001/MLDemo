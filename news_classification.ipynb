{
 "cells": [
  {
   "cell_type": "code",
   "execution_count": 14,
   "metadata": {},
   "outputs": [],
   "source": [
    "import glob\n",
    "import os\n",
    "path = 'train/chinese_news_trans/'\n",
    "test_path = 'test/chinese_news_test/'\n",
    "# print(glob.glob('./train/chinese_news_trans/*'))\n",
    "trans = {os.path.basename(name):index for index,name in enumerate(glob.glob(path+'*'))}"
   ]
  },
  {
   "cell_type": "code",
   "execution_count": 22,
   "metadata": {},
   "outputs": [
    {
     "name": "stdout",
     "output_type": "stream",
     "text": [
      "交通\n",
      "政治\n",
      "教育\n",
      "環境\n",
      "經濟\n",
      "藝術\n",
      "計算機\n",
      "軍事\n",
      "醫藥\n",
      "體育\n"
     ]
    },
    {
     "name": "stderr",
     "output_type": "stream",
     "text": [
      "IOPub data rate exceeded.\n",
      "The notebook server will temporarily stop sending output\n",
      "to the client in order to avoid crashing it.\n",
      "To change this limit, set the config variable\n",
      "`--NotebookApp.iopub_data_rate_limit`.\n",
      "\n",
      "Current values:\n",
      "NotebookApp.iopub_data_rate_limit=1000000.0 (bytes/sec)\n",
      "NotebookApp.rate_limit_window=3.0 (secs)\n",
      "\n"
     ]
    },
    {
     "data": {
      "text/html": [
       "<div>\n",
       "<style scoped>\n",
       "    .dataframe tbody tr th:only-of-type {\n",
       "        vertical-align: middle;\n",
       "    }\n",
       "\n",
       "    .dataframe tbody tr th {\n",
       "        vertical-align: top;\n",
       "    }\n",
       "\n",
       "    .dataframe thead th {\n",
       "        text-align: right;\n",
       "    }\n",
       "</style>\n",
       "<table border=\"1\" class=\"dataframe\">\n",
       "  <thead>\n",
       "    <tr style=\"text-align: right;\">\n",
       "      <th></th>\n",
       "      <th>category</th>\n",
       "      <th>content</th>\n",
       "    </tr>\n",
       "  </thead>\n",
       "  <tbody>\n",
       "    <tr>\n",
       "      <td>0</td>\n",
       "      <td>0</td>\n",
       "      <td>日月光華 -- Traffic_Info精華區文章閱讀\\n-----------------...</td>\n",
       "    </tr>\n",
       "    <tr>\n",
       "      <td>1</td>\n",
       "      <td>0</td>\n",
       "      <td>日月光華 -- Traffic_Info精華區文章閱讀\\n-----------------...</td>\n",
       "    </tr>\n",
       "    <tr>\n",
       "      <td>2</td>\n",
       "      <td>0</td>\n",
       "      <td>日月光華 -- Traffic_Info精華區文章閱讀\\n-----------------...</td>\n",
       "    </tr>\n",
       "    <tr>\n",
       "      <td>3</td>\n",
       "      <td>0</td>\n",
       "      <td>三趟火車停開 乘客可全額退票 \\n瀏覽次數：1180 \\n    昨日，來自鐵路部門的消息說...</td>\n",
       "    </tr>\n",
       "    <tr>\n",
       "      <td>4</td>\n",
       "      <td>0</td>\n",
       "      <td>日月光華 -- Traffic_Info精華區文章閱讀\\n-----------------...</td>\n",
       "    </tr>\n",
       "    <tr>\n",
       "      <td>...</td>\n",
       "      <td>...</td>\n",
       "      <td>...</td>\n",
       "    </tr>\n",
       "    <tr>\n",
       "      <td>96</td>\n",
       "      <td>9</td>\n",
       "      <td>最優秀選手無緣亞運會健美賽\\n \\n　 \\n    健美在亞洲運動會上是“新生兒”——韓國釜...</td>\n",
       "    </tr>\n",
       "    <tr>\n",
       "      <td>97</td>\n",
       "      <td>9</td>\n",
       "      <td>\\n各國記者眼中的羽毛球世錦賽\\n \\n\\n-----------------------...</td>\n",
       "    </tr>\n",
       "    <tr>\n",
       "      <td>98</td>\n",
       "      <td>9</td>\n",
       "      <td>\\n友好運動會第五天 東道主選手大顯神威\\n2001年09月03日02:51:40 新華社 ...</td>\n",
       "    </tr>\n",
       "    <tr>\n",
       "      <td>99</td>\n",
       "      <td>9</td>\n",
       "      <td>不靠技術比運氣\\n\\n　　第二屆奧運會在巴黎舉行，同時這裡也正在舉行國際博覽會，東道主把一些...</td>\n",
       "    </tr>\n",
       "    <tr>\n",
       "      <td>100</td>\n",
       "      <td>9</td>\n",
       "      <td>帆 板 運 動 簡 介（二）\\n\\n　　我國在79年由國家體委青島航海運動學校成功試製出第一...</td>\n",
       "    </tr>\n",
       "  </tbody>\n",
       "</table>\n",
       "<p>101 rows × 2 columns</p>\n",
       "</div>"
      ],
      "text/plain": [
       "     category                                            content\n",
       "0           0  日月光華 -- Traffic_Info精華區文章閱讀\\n-----------------...\n",
       "1           0  日月光華 -- Traffic_Info精華區文章閱讀\\n-----------------...\n",
       "2           0  日月光華 -- Traffic_Info精華區文章閱讀\\n-----------------...\n",
       "3           0  三趟火車停開 乘客可全額退票 \\n瀏覽次數：1180 \\n    昨日，來自鐵路部門的消息說...\n",
       "4           0  日月光華 -- Traffic_Info精華區文章閱讀\\n-----------------...\n",
       "..        ...                                                ...\n",
       "96          9  最優秀選手無緣亞運會健美賽\\n \\n　 \\n    健美在亞洲運動會上是“新生兒”——韓國釜...\n",
       "97          9   \\n各國記者眼中的羽毛球世錦賽\\n \\n\\n-----------------------...\n",
       "98          9  \\n友好運動會第五天 東道主選手大顯神威\\n2001年09月03日02:51:40 新華社 ...\n",
       "99          9  不靠技術比運氣\\n\\n　　第二屆奧運會在巴黎舉行，同時這裡也正在舉行國際博覽會，東道主把一些...\n",
       "100         9  帆 板 運 動 簡 介（二）\\n\\n　　我國在79年由國家體委青島航海運動學校成功試製出第一...\n",
       "\n",
       "[101 rows x 2 columns]"
      ]
     },
     "execution_count": 22,
     "metadata": {},
     "output_type": "execute_result"
    }
   ],
   "source": [
    "import pandas as pd\n",
    "dic = []\n",
    "test_dic = []\n",
    "for k in trans.keys():\n",
    "    print(k)\n",
    "    all_files = glob.glob(f'{path}{k}/*.txt')\n",
    "    test_files = glob.glob(f'{test_path}{k}/*.txt')\n",
    "    for i in all_files:\n",
    "#         print(i)\n",
    "        with open(i,'r', encoding='UTF-8') as f:\n",
    "            output = f.read()\n",
    "            dic.append({'category':trans[k],'content':output.split('【 正  文 】')[-1]})\n",
    "            \n",
    "    for i in test_files:\n",
    "#         print(i)\n",
    "        with open(i,'r', encoding='UTF-8') as f:\n",
    "            output = f.read()\n",
    "            test_dic.append({'category':trans[k],'content':output.split('【 正  文 】')[-1]})\n",
    "            \n",
    "print(dic)\n",
    "train_df = pd.DataFrame(dic)\n",
    "test_df = pd.DataFrame(test_dic)\n",
    "# train_df\n",
    "test_df"
   ]
  },
  {
   "cell_type": "code",
   "execution_count": 3,
   "metadata": {},
   "outputs": [],
   "source": [
    "from jieba import cut\n",
    "def poemcut(s):\n",
    "    s = (s.replace(\"\\r\", ' ')\n",
    "      .replace(\"\\n\", ' ')\n",
    "#       .replace(\"，\", ' ')\n",
    "#       .replace(\"。\", ' ')\n",
    "        )\n",
    "    return ' '.join(cut(s))"
   ]
  },
  {
   "cell_type": "code",
   "execution_count": 4,
   "metadata": {},
   "outputs": [
    {
     "name": "stderr",
     "output_type": "stream",
     "text": [
      "Building prefix dict from the default dictionary ...\n",
      "Loading model from cache C:\\Users\\User\\AppData\\Local\\Temp\\jieba.cache\n",
      "Loading model cost 0.664 seconds.\n",
      "Prefix dict has been built succesfully.\n"
     ]
    }
   ],
   "source": [
    "x_train = train_df['content'].apply(poemcut)\n",
    "y_train = train_df['category']\n",
    "x_test = test_df['content'].apply(poemcut)\n",
    "y_test = test_df['category']"
   ]
  },
  {
   "cell_type": "code",
   "execution_count": 5,
   "metadata": {},
   "outputs": [],
   "source": [
    "from sklearn.feature_extraction.text import CountVectorizer\n",
    "vec = CountVectorizer()\n",
    "x_train_vec = vec.fit_transform(x_train)"
   ]
  },
  {
   "cell_type": "code",
   "execution_count": 6,
   "metadata": {},
   "outputs": [],
   "source": [
    "reverse = {v:k for k,v in vec.vocabulary_.items()}"
   ]
  },
  {
   "cell_type": "code",
   "execution_count": 7,
   "metadata": {},
   "outputs": [
    {
     "data": {
      "text/plain": [
       "MultinomialNB(alpha=1.0, class_prior=None, fit_prior=True)"
      ]
     },
     "execution_count": 7,
     "metadata": {},
     "output_type": "execute_result"
    }
   ],
   "source": [
    "\n",
    "# 單純貝式分類器\n",
    "from sklearn.naive_bayes import MultinomialNB\n",
    "clf = MultinomialNB()\n",
    "clf.fit(x_train_vec,y_train)"
   ]
  },
  {
   "cell_type": "code",
   "execution_count": 8,
   "metadata": {},
   "outputs": [],
   "source": [
    "# 測試資料不fit\n",
    "x_test_vec = vec.transform(x_test)"
   ]
  },
  {
   "cell_type": "code",
   "execution_count": 9,
   "metadata": {},
   "outputs": [
    {
     "data": {
      "text/plain": [
       "1.0"
      ]
     },
     "execution_count": 9,
     "metadata": {},
     "output_type": "execute_result"
    }
   ],
   "source": [
    "from sklearn.metrics import accuracy_score\n",
    "pre = clf.predict(x_test_vec)\n",
    "accuracy_score(pre,y_test)"
   ]
  },
  {
   "cell_type": "code",
   "execution_count": 10,
   "metadata": {
    "scrolled": true
   },
   "outputs": [
    {
     "data": {
      "text/html": [
       "<div>\n",
       "<style scoped>\n",
       "    .dataframe tbody tr th:only-of-type {\n",
       "        vertical-align: middle;\n",
       "    }\n",
       "\n",
       "    .dataframe tbody tr th {\n",
       "        vertical-align: top;\n",
       "    }\n",
       "\n",
       "    .dataframe thead th {\n",
       "        text-align: right;\n",
       "    }\n",
       "</style>\n",
       "<table border=\"1\" class=\"dataframe\">\n",
       "  <thead>\n",
       "    <tr style=\"text-align: right;\">\n",
       "      <th></th>\n",
       "      <th>交通 (預測)</th>\n",
       "      <th>政治 (預測)</th>\n",
       "      <th>教育 (預測)</th>\n",
       "      <th>環境 (預測)</th>\n",
       "      <th>經濟 (預測)</th>\n",
       "      <th>藝術 (預測)</th>\n",
       "      <th>計算機 (預測)</th>\n",
       "      <th>軍事 (預測)</th>\n",
       "      <th>醫藥 (預測)</th>\n",
       "      <th>體育 (預測)</th>\n",
       "    </tr>\n",
       "  </thead>\n",
       "  <tbody>\n",
       "    <tr>\n",
       "      <td>交通 (正確)</td>\n",
       "      <td>10</td>\n",
       "      <td>0</td>\n",
       "      <td>0</td>\n",
       "      <td>0</td>\n",
       "      <td>0</td>\n",
       "      <td>0</td>\n",
       "      <td>0</td>\n",
       "      <td>0</td>\n",
       "      <td>0</td>\n",
       "      <td>0</td>\n",
       "    </tr>\n",
       "    <tr>\n",
       "      <td>政治 (正確)</td>\n",
       "      <td>0</td>\n",
       "      <td>11</td>\n",
       "      <td>0</td>\n",
       "      <td>0</td>\n",
       "      <td>0</td>\n",
       "      <td>0</td>\n",
       "      <td>0</td>\n",
       "      <td>0</td>\n",
       "      <td>0</td>\n",
       "      <td>0</td>\n",
       "    </tr>\n",
       "    <tr>\n",
       "      <td>教育 (正確)</td>\n",
       "      <td>0</td>\n",
       "      <td>0</td>\n",
       "      <td>10</td>\n",
       "      <td>0</td>\n",
       "      <td>0</td>\n",
       "      <td>0</td>\n",
       "      <td>0</td>\n",
       "      <td>0</td>\n",
       "      <td>0</td>\n",
       "      <td>0</td>\n",
       "    </tr>\n",
       "    <tr>\n",
       "      <td>環境 (正確)</td>\n",
       "      <td>0</td>\n",
       "      <td>0</td>\n",
       "      <td>0</td>\n",
       "      <td>10</td>\n",
       "      <td>0</td>\n",
       "      <td>0</td>\n",
       "      <td>0</td>\n",
       "      <td>0</td>\n",
       "      <td>0</td>\n",
       "      <td>0</td>\n",
       "    </tr>\n",
       "    <tr>\n",
       "      <td>經濟 (正確)</td>\n",
       "      <td>0</td>\n",
       "      <td>0</td>\n",
       "      <td>0</td>\n",
       "      <td>0</td>\n",
       "      <td>10</td>\n",
       "      <td>0</td>\n",
       "      <td>0</td>\n",
       "      <td>0</td>\n",
       "      <td>0</td>\n",
       "      <td>0</td>\n",
       "    </tr>\n",
       "    <tr>\n",
       "      <td>藝術 (正確)</td>\n",
       "      <td>0</td>\n",
       "      <td>0</td>\n",
       "      <td>0</td>\n",
       "      <td>0</td>\n",
       "      <td>0</td>\n",
       "      <td>10</td>\n",
       "      <td>0</td>\n",
       "      <td>0</td>\n",
       "      <td>0</td>\n",
       "      <td>0</td>\n",
       "    </tr>\n",
       "    <tr>\n",
       "      <td>計算機 (正確)</td>\n",
       "      <td>0</td>\n",
       "      <td>0</td>\n",
       "      <td>0</td>\n",
       "      <td>0</td>\n",
       "      <td>0</td>\n",
       "      <td>0</td>\n",
       "      <td>10</td>\n",
       "      <td>0</td>\n",
       "      <td>0</td>\n",
       "      <td>0</td>\n",
       "    </tr>\n",
       "    <tr>\n",
       "      <td>軍事 (正確)</td>\n",
       "      <td>0</td>\n",
       "      <td>0</td>\n",
       "      <td>0</td>\n",
       "      <td>0</td>\n",
       "      <td>0</td>\n",
       "      <td>0</td>\n",
       "      <td>0</td>\n",
       "      <td>10</td>\n",
       "      <td>0</td>\n",
       "      <td>0</td>\n",
       "    </tr>\n",
       "    <tr>\n",
       "      <td>醫藥 (正確)</td>\n",
       "      <td>0</td>\n",
       "      <td>0</td>\n",
       "      <td>0</td>\n",
       "      <td>0</td>\n",
       "      <td>0</td>\n",
       "      <td>0</td>\n",
       "      <td>0</td>\n",
       "      <td>0</td>\n",
       "      <td>10</td>\n",
       "      <td>0</td>\n",
       "    </tr>\n",
       "    <tr>\n",
       "      <td>體育 (正確)</td>\n",
       "      <td>0</td>\n",
       "      <td>0</td>\n",
       "      <td>0</td>\n",
       "      <td>0</td>\n",
       "      <td>0</td>\n",
       "      <td>0</td>\n",
       "      <td>0</td>\n",
       "      <td>0</td>\n",
       "      <td>0</td>\n",
       "      <td>10</td>\n",
       "    </tr>\n",
       "  </tbody>\n",
       "</table>\n",
       "</div>"
      ],
      "text/plain": [
       "          交通 (預測)  政治 (預測)  教育 (預測)  環境 (預測)  經濟 (預測)  藝術 (預測)  計算機 (預測)  \\\n",
       "交通 (正確)        10        0        0        0        0        0         0   \n",
       "政治 (正確)         0       11        0        0        0        0         0   \n",
       "教育 (正確)         0        0       10        0        0        0         0   \n",
       "環境 (正確)         0        0        0       10        0        0         0   \n",
       "經濟 (正確)         0        0        0        0       10        0         0   \n",
       "藝術 (正確)         0        0        0        0        0       10         0   \n",
       "計算機 (正確)        0        0        0        0        0        0        10   \n",
       "軍事 (正確)         0        0        0        0        0        0         0   \n",
       "醫藥 (正確)         0        0        0        0        0        0         0   \n",
       "體育 (正確)         0        0        0        0        0        0         0   \n",
       "\n",
       "          軍事 (預測)  醫藥 (預測)  體育 (預測)  \n",
       "交通 (正確)         0        0        0  \n",
       "政治 (正確)         0        0        0  \n",
       "教育 (正確)         0        0        0  \n",
       "環境 (正確)         0        0        0  \n",
       "經濟 (正確)         0        0        0  \n",
       "藝術 (正確)         0        0        0  \n",
       "計算機 (正確)        0        0        0  \n",
       "軍事 (正確)        10        0        0  \n",
       "醫藥 (正確)         0       10        0  \n",
       "體育 (正確)         0        0       10  "
      ]
     },
     "execution_count": 10,
     "metadata": {},
     "output_type": "execute_result"
    }
   ],
   "source": [
    "# 混淆矩陣\n",
    "from sklearn.metrics import confusion_matrix\n",
    "labels = [k for k in trans.keys()]\n",
    "pd.DataFrame(confusion_matrix(y_test,pre),\n",
    "             columns=[f'{l} (預測)' for l in labels],\n",
    "             index=[f'{l} (正確)' for l in labels])"
   ]
  },
  {
   "cell_type": "code",
   "execution_count": 23,
   "metadata": {},
   "outputs": [
    {
     "name": "stdout",
     "output_type": "stream",
     "text": [
      "請寫一篇新聞〔記者陳柔蓁／台北報導〕國民黨今在三大報刊登半版廣告，喊話希望郭台銘回黨團結、尊重黨籍提名人制度，還附有31位大老簽名連署，外傳郭台銘是因為看到交情匪淺的前總統馬英九、國民黨副主席郝龍斌的簽名，才憤而在今日上午宣布退黨，對此郭辦回應，「此臆測並非事實」。  當初是馬英九勸進郭台銘參與國民黨初選，而國民黨內與郭台銘關係較和緩的，還有副主席郝龍斌，甚至扮演穿梭溝通的關鍵角色。  今日上午，郭幕僚、永齡基金會副執行長蔡沁瑜說，「退黨是郭台銘先生的個人決定和意志，跟馬前總統無關。郭台銘退黨，這是這麼長久以來，心境的表達。」  而昨日國民黨中常委對郭喊話「好聚好散」、「錢都已還清」，是否因此激怒郭台銘。今日蔡沁瑜對此表示，不對這件事回應。僅強調，現狀與郭台銘當初回國民黨的理念完全背道而馳，對於最後選擇退黨，表達遺憾、痛心。\n",
      "應該是哪一類的-> 政治\n"
     ]
    }
   ],
   "source": [
    "p = input('請寫一篇新聞')\n",
    "p = poemcut(p)\n",
    "p_vec = vec.transform([p])\n",
    "print('應該是哪一類的->',labels[clf.predict(p_vec)[0]])"
   ]
  },
  {
   "cell_type": "code",
   "execution_count": null,
   "metadata": {},
   "outputs": [],
   "source": []
  }
 ],
 "metadata": {
  "kernelspec": {
   "display_name": "Python 3",
   "language": "python",
   "name": "python3"
  },
  "language_info": {
   "codemirror_mode": {
    "name": "ipython",
    "version": 3
   },
   "file_extension": ".py",
   "mimetype": "text/x-python",
   "name": "python",
   "nbconvert_exporter": "python",
   "pygments_lexer": "ipython3",
   "version": "3.7.4"
  }
 },
 "nbformat": 4,
 "nbformat_minor": 2
}
