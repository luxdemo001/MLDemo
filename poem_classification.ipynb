{
 "cells": [
  {
   "cell_type": "code",
   "execution_count": 1,
   "metadata": {},
   "outputs": [
    {
     "data": {
      "text/html": [
       "<div>\n",
       "<style scoped>\n",
       "    .dataframe tbody tr th:only-of-type {\n",
       "        vertical-align: middle;\n",
       "    }\n",
       "\n",
       "    .dataframe tbody tr th {\n",
       "        vertical-align: top;\n",
       "    }\n",
       "\n",
       "    .dataframe thead th {\n",
       "        text-align: right;\n",
       "    }\n",
       "</style>\n",
       "<table border=\"1\" class=\"dataframe\">\n",
       "  <thead>\n",
       "    <tr style=\"text-align: right;\">\n",
       "      <th></th>\n",
       "      <th>作者</th>\n",
       "      <th>詩名</th>\n",
       "      <th>內容</th>\n",
       "    </tr>\n",
       "  </thead>\n",
       "  <tbody>\n",
       "    <tr>\n",
       "      <td>0</td>\n",
       "      <td>李白</td>\n",
       "      <td>菩薩蠻·平林漠漠煙如織</td>\n",
       "      <td>平林漠漠煙如織，寒山一帶傷心碧。\\r\\n暝色入高樓，有人樓上愁。玉階空佇立，宿鳥歸飛急。\\r...</td>\n",
       "    </tr>\n",
       "    <tr>\n",
       "      <td>1</td>\n",
       "      <td>李白</td>\n",
       "      <td>把酒問月</td>\n",
       "      <td>青天有月來幾時，我今停杯一問之：人攀明月不可得，月行卻與人相隨？皎如飛鏡臨丹闕，綠煙滅儘清輝...</td>\n",
       "    </tr>\n",
       "    <tr>\n",
       "      <td>2</td>\n",
       "      <td>李白</td>\n",
       "      <td>春思</td>\n",
       "      <td>燕草如碧絲，秦桑低綠枝。當君懷歸日，是妾斷腸時。春風不相識，何事入羅幃。</td>\n",
       "    </tr>\n",
       "    <tr>\n",
       "      <td>3</td>\n",
       "      <td>李白</td>\n",
       "      <td>春夜洛城聞笛</td>\n",
       "      <td>誰家玉笛暗飛聲，散入春風滿洛城。此夜曲中聞折柳，何人不起故園情。</td>\n",
       "    </tr>\n",
       "    <tr>\n",
       "      <td>4</td>\n",
       "      <td>李白</td>\n",
       "      <td>古風 其十九</td>\n",
       "      <td>西上蓮花山，迢迢見明星。(西上 一作：西嶽)素手把芙蓉，虛步躡太清。霓裳曳廣帶，飄拂升天行。...</td>\n",
       "    </tr>\n",
       "    <tr>\n",
       "      <td>...</td>\n",
       "      <td>...</td>\n",
       "      <td>...</td>\n",
       "      <td>...</td>\n",
       "    </tr>\n",
       "    <tr>\n",
       "      <td>2726</td>\n",
       "      <td>白居易</td>\n",
       "      <td>彆元九後詠所懷</td>\n",
       "      <td>零落桐葉雨，蕭條槿花風。悠悠早秋意，生此幽閒中。況與故人彆，中懷正無悰。勿雲不相送，心到青門...</td>\n",
       "    </tr>\n",
       "    <tr>\n",
       "      <td>2727</td>\n",
       "      <td>白居易</td>\n",
       "      <td>早秋曲江感懷</td>\n",
       "      <td>離離暑雲散，嫋嫋涼風起。池上秋又來，荷花半成子。朱顏易銷歇，白日無窮已。人壽不如山，年光急於...</td>\n",
       "    </tr>\n",
       "    <tr>\n",
       "      <td>2728</td>\n",
       "      <td>白居易</td>\n",
       "      <td>東墟晚歇　時退居渭村。</td>\n",
       "      <td>涼風冷露蕭索天，黃蒿紫菊荒涼田。繞塚秋花少顏色，細蟲小蝶飛翻翻。中有騰騰獨行者，手拄漁竿不騎...</td>\n",
       "    </tr>\n",
       "    <tr>\n",
       "      <td>2729</td>\n",
       "      <td>白居易</td>\n",
       "      <td>南秦雪</td>\n",
       "      <td>往歲曾為西邑吏，慣從駱口到南秦。\\r\\n三時雲冷多飛雪，二月山寒少有春。\\r\\n我思舊事猶惆...</td>\n",
       "    </tr>\n",
       "    <tr>\n",
       "      <td>2730</td>\n",
       "      <td>白居易</td>\n",
       "      <td>寄蘄州簟與元九因題六韻　時元九鰥居。</td>\n",
       "      <td>笛竹出蘄春，霜刀劈翠筠。織成雙鎖簟，寄與獨眠人。卷作筒中信，舒為席上珍。滑如鋪薤葉，冷似臥龍...</td>\n",
       "    </tr>\n",
       "  </tbody>\n",
       "</table>\n",
       "<p>2731 rows × 3 columns</p>\n",
       "</div>"
      ],
      "text/plain": [
       "       作者                  詩名  \\\n",
       "0      李白         菩薩蠻·平林漠漠煙如織   \n",
       "1      李白                把酒問月   \n",
       "2      李白                  春思   \n",
       "3      李白              春夜洛城聞笛   \n",
       "4      李白              古風 其十九   \n",
       "...   ...                 ...   \n",
       "2726  白居易             彆元九後詠所懷   \n",
       "2727  白居易              早秋曲江感懷   \n",
       "2728  白居易         東墟晚歇　時退居渭村。   \n",
       "2729  白居易                 南秦雪   \n",
       "2730  白居易  寄蘄州簟與元九因題六韻　時元九鰥居。   \n",
       "\n",
       "                                                     內容  \n",
       "0     平林漠漠煙如織，寒山一帶傷心碧。\\r\\n暝色入高樓，有人樓上愁。玉階空佇立，宿鳥歸飛急。\\r...  \n",
       "1     青天有月來幾時，我今停杯一問之：人攀明月不可得，月行卻與人相隨？皎如飛鏡臨丹闕，綠煙滅儘清輝...  \n",
       "2                  燕草如碧絲，秦桑低綠枝。當君懷歸日，是妾斷腸時。春風不相識，何事入羅幃。  \n",
       "3                      誰家玉笛暗飛聲，散入春風滿洛城。此夜曲中聞折柳，何人不起故園情。  \n",
       "4     西上蓮花山，迢迢見明星。(西上 一作：西嶽)素手把芙蓉，虛步躡太清。霓裳曳廣帶，飄拂升天行。...  \n",
       "...                                                 ...  \n",
       "2726  零落桐葉雨，蕭條槿花風。悠悠早秋意，生此幽閒中。況與故人彆，中懷正無悰。勿雲不相送，心到青門...  \n",
       "2727  離離暑雲散，嫋嫋涼風起。池上秋又來，荷花半成子。朱顏易銷歇，白日無窮已。人壽不如山，年光急於...  \n",
       "2728  涼風冷露蕭索天，黃蒿紫菊荒涼田。繞塚秋花少顏色，細蟲小蝶飛翻翻。中有騰騰獨行者，手拄漁竿不騎...  \n",
       "2729  往歲曾為西邑吏，慣從駱口到南秦。\\r\\n三時雲冷多飛雪，二月山寒少有春。\\r\\n我思舊事猶惆...  \n",
       "2730  笛竹出蘄春，霜刀劈翠筠。織成雙鎖簟，寄與獨眠人。卷作筒中信，舒為席上珍。滑如鋪薤葉，冷似臥龍...  \n",
       "\n",
       "[2731 rows x 3 columns]"
      ]
     },
     "execution_count": 1,
     "metadata": {},
     "output_type": "execute_result"
    }
   ],
   "source": [
    "import pandas as pd\n",
    "train_df = pd.read_csv('poem_train.csv', encoding='utf-8')\n",
    "test_df = pd.read_csv('poem_test.csv', encoding='utf-8')\n",
    "train_df"
   ]
  },
  {
   "cell_type": "code",
   "execution_count": 3,
   "metadata": {},
   "outputs": [
    {
     "data": {
      "text/plain": [
       "0       0\n",
       "1       0\n",
       "2       0\n",
       "3       0\n",
       "4       0\n",
       "       ..\n",
       "2726    2\n",
       "2727    2\n",
       "2728    2\n",
       "2729    2\n",
       "2730    2\n",
       "Name: 作者, Length: 2731, dtype: int64"
      ]
     },
     "execution_count": 3,
     "metadata": {},
     "output_type": "execute_result"
    }
   ],
   "source": [
    "trans = {'李白':0,'杜甫':1,'白居易':2}\n",
    "# pandas replace替換資料\n",
    "y_train = train_df['作者'].replace(trans)\n",
    "y_test = test_df['作者'].replace(trans)\n",
    "y_train"
   ]
  },
  {
   "cell_type": "code",
   "execution_count": null,
   "metadata": {},
   "outputs": [],
   "source": [
    "from jieba import cut\n",
    "s = '平林漠漠煙如織，寒山一帶傷心碧。\\r\\n暝色入高樓，有人樓上愁。'\n",
    "s = (s.replace(\"\\r\", ' ')\n",
    "      .replace(\"\\n\", ' ')\n",
    "      .replace(\"，\", ' ')\n",
    "      .replace(\"。\", ' '))\n",
    "' '.join(cut(s))"
   ]
  },
  {
   "cell_type": "code",
   "execution_count": null,
   "metadata": {
    "scrolled": true
   },
   "outputs": [],
   "source": [
    "# pandas apply\n",
    "def poemcut(s):\n",
    "    s = (s.replace(\"\\r\", ' ')\n",
    "      .replace(\"\\n\", ' ')\n",
    "#       .replace(\"，\", ' ')\n",
    "#       .replace(\"。\", ' ')\n",
    "        )\n",
    "    return ' '.join(cut(s))\n",
    "\n",
    "x_train = train_df['內容'].apply(poemcut)\n",
    "x_test = test_df['內容'].apply(poemcut)\n"
   ]
  },
  {
   "cell_type": "code",
   "execution_count": null,
   "metadata": {},
   "outputs": [],
   "source": [
    "# fit 找出有幾個欄位\n",
    "# transform 轉換\n",
    "# 訓練資料: fit + transform\n",
    "# 測試資料: transform\n",
    "\n",
    "from sklearn.feature_extraction.text import CountVectorizer\n",
    "vec = CountVectorizer()\n",
    "# fit_transform 會處理標點符號\n",
    "x_train_vec = vec.fit_transform(x_train)"
   ]
  },
  {
   "cell_type": "code",
   "execution_count": null,
   "metadata": {},
   "outputs": [],
   "source": [
    "print(x_train_vec)\n",
    "#Sparse Matrix 只存非0的值"
   ]
  },
  {
   "cell_type": "code",
   "execution_count": null,
   "metadata": {},
   "outputs": [],
   "source": [
    "# 字典\n",
    "reverse = {v:k for k,v in vec.vocabulary_.items()}\n",
    "i = int(input('輸入欄位->詞'))\n",
    "print('對應的詞:',[reverse[i]])"
   ]
  },
  {
   "cell_type": "code",
   "execution_count": null,
   "metadata": {},
   "outputs": [],
   "source": [
    "# 測試資料不fit\n",
    "x_test_vec = vec.transform(x_test)\n",
    "print(x_test_vec)"
   ]
  },
  {
   "cell_type": "code",
   "execution_count": null,
   "metadata": {},
   "outputs": [],
   "source": [
    "# 單純貝式分類器\n",
    "from sklearn.naive_bayes import MultinomialNB\n",
    "clf = MultinomialNB()\n",
    "clf.fit(x_train_vec,y_train)"
   ]
  },
  {
   "cell_type": "code",
   "execution_count": null,
   "metadata": {
    "scrolled": true
   },
   "outputs": [],
   "source": [
    "from sklearn.metrics import accuracy_score\n",
    "pre = clf.predict(x_test_vec)\n",
    "accuracy_score(pre,y_test)"
   ]
  },
  {
   "cell_type": "code",
   "execution_count": null,
   "metadata": {
    "scrolled": true
   },
   "outputs": [],
   "source": [
    "# 混淆矩陣\n",
    "from sklearn.metrics import confusion_matrix\n",
    "labels = ['李白','杜甫','白居易']\n",
    "pd.DataFrame(confusion_matrix(y_test,pre),\n",
    "             columns=[f'{l} (預測)' for l in labels],\n",
    "             index=[f'{l} (正確)' for l in labels])"
   ]
  },
  {
   "cell_type": "code",
   "execution_count": null,
   "metadata": {},
   "outputs": [],
   "source": [
    "p = input('請寫一首詩')\n",
    "p = poemcut(p)\n",
    "p_vec = vec.transform([p])\n",
    "print('應該是誰寫的->',labels[clf.predict(p_vec)[0]])"
   ]
  },
  {
   "cell_type": "code",
   "execution_count": null,
   "metadata": {},
   "outputs": [],
   "source": []
  }
 ],
 "metadata": {
  "kernelspec": {
   "display_name": "Python 3",
   "language": "python",
   "name": "python3"
  },
  "language_info": {
   "codemirror_mode": {
    "name": "ipython",
    "version": 3
   },
   "file_extension": ".py",
   "mimetype": "text/x-python",
   "name": "python",
   "nbconvert_exporter": "python",
   "pygments_lexer": "ipython3",
   "version": "3.7.4"
  }
 },
 "nbformat": 4,
 "nbformat_minor": 2
}
